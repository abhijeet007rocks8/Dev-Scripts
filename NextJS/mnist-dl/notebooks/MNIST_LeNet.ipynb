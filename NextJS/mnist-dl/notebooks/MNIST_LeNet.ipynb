{
  "nbformat": 4,
  "nbformat_minor": 0,
  "metadata": {
    "colab": {
      "name": "MNIST_LeNet.ipynb",
      "provenance": [],
      "collapsed_sections": []
    },
    "kernelspec": {
      "name": "python3",
      "display_name": "Python 3"
    },
    "language_info": {
      "name": "python"
    },
    "accelerator": "GPU"
  },
  "cells": [
    {
      "cell_type": "markdown",
      "metadata": {
        "id": "ESqyMa7VssPX"
      },
      "source": [
        "### MNIST LeNet\n",
        "\n",
        "In this notebook we are going to create an image classification model using the [LeNet-5](http://yann.lecun.com/exdb/lenet/) model achitecture in MNIST digits classification.\n",
        "\n",
        "<p align=\"center\">\n",
        "<img src=\"https://github.com/bentrevett/pytorch-image-classification/blob/master/assets/lenet5.png?raw=1\"/>\n",
        "</p>\n",
        "\n",
        "### Data processing\n",
        "We will import necessary packages and prepare our mnist digit classifier using the `LeNet-5` achitecture"
      ]
    },
    {
      "cell_type": "code",
      "metadata": {
        "id": "a9lcIl0esl_H",
        "colab": {
          "base_uri": "https://localhost:8080/",
          "height": 35
        },
        "outputId": "08b75027-19ed-4cf6-c1cb-fa041f81e8fa"
      },
      "source": [
        "import torch\n",
        "import torch.nn as nn\n",
        "from torch.nn import functional as F\n",
        "from torchvision import datasets, transforms\n",
        "from torch.utils import data\n",
        "import random, time, os, copy\n",
        "\n",
        "import numpy as np\n",
        "import matplotlib.pyplot as plt\n",
        "\n",
        "from sklearn import decomposition, manifold\n",
        "from sklearn.metrics import confusion_matrix, ConfusionMatrixDisplay\n",
        "\n",
        "from prettytable import PrettyTable\n",
        "\n",
        "torch.__version__"
      ],
      "execution_count": 3,
      "outputs": [
        {
          "output_type": "execute_result",
          "data": {
            "application/vnd.google.colaboratory.intrinsic+json": {
              "type": "string"
            },
            "text/plain": [
              "'1.10.0+cu111'"
            ]
          },
          "metadata": {},
          "execution_count": 3
        }
      ]
    },
    {
      "cell_type": "markdown",
      "metadata": {
        "id": "nzDNLi5iuF_d"
      },
      "source": [
        "### Setting seeds"
      ]
    },
    {
      "cell_type": "code",
      "metadata": {
        "id": "j_P8A6SvuFeY"
      },
      "source": [
        "SEED = 42\n",
        "\n",
        "random.seed(SEED)\n",
        "torch.manual_seed(SEED)\n",
        "torch.cuda.manual_seed(SEED)\n",
        "np.random.seed(SEED)\n",
        "torch.backends.cudnn.deterministic = True"
      ],
      "execution_count": 2,
      "outputs": []
    },
    {
      "cell_type": "markdown",
      "metadata": {
        "id": "7pFG2SjLubhM"
      },
      "source": [
        "### Mean and Standard Deviation\n",
        "In the following code cell we are going to calculate the mean and standard deviation from the train data. We are ging to use the mean and standard deviation for normalizing the images during preprocessing.\n"
      ]
    },
    {
      "cell_type": "code",
      "metadata": {
        "colab": {
          "base_uri": "https://localhost:8080/"
        },
        "id": "ifK3l0lGuavd",
        "outputId": "95cbc080-468e-43c4-fdb6-f027dba84eb8"
      },
      "source": [
        "train_data = datasets.MNIST(\n",
        "    '.', train=True, download=True\n",
        ")\n",
        "\n",
        "mean = train_data.data.float().mean() / 255.\n",
        "std = train_data.data.float().std() / 255.\n",
        "\n",
        "def tabulate(column_names, data, title):\n",
        "  table = PrettyTable(column_names)\n",
        "  table.title= title\n",
        "  table.align[column_names[0]] = 'l'\n",
        "  table.align[column_names[1]] = 'r'\n",
        "  for row in data:\n",
        "    table.add_row(row)\n",
        "  print(table)\n",
        "\n",
        "tabulate([\n",
        "    \"Measure of Central Tendecy\", \"Value\"\n",
        "],[\n",
        "   (\"mean\", mean.item()),\n",
        "   (\"standard dev (std)\", std.item())\n",
        "], \"THE MEAN AND STANDARD DEVIATION OF THE DATA\")"
      ],
      "execution_count": 5,
      "outputs": [
        {
          "output_type": "stream",
          "name": "stdout",
          "text": [
            "+--------------------------------------------------+\n",
            "|   THE MEAN AND STANDARD DEVIATION OF THE DATA    |\n",
            "+----------------------------+---------------------+\n",
            "| Measure of Central Tendecy |               Value |\n",
            "+----------------------------+---------------------+\n",
            "| mean                       | 0.13066047430038452 |\n",
            "| standard dev (std)         | 0.30810779333114624 |\n",
            "+----------------------------+---------------------+\n"
          ]
        }
      ]
    },
    {
      "cell_type": "markdown",
      "metadata": {
        "id": "5wL6C5CNvT_9"
      },
      "source": [
        "### Data transformation.\n",
        "\n",
        "We are going to transform our dataset, In the following code cell we are going to define our image tranformation for both the train and test set. The test transformation will be used as validation transformation.\n"
      ]
    },
    {
      "cell_type": "code",
      "metadata": {
        "id": "C71rsHt3vOY3"
      },
      "source": [
        "train_transforms = transforms.Compose([\n",
        "        transforms.RandomRotation(5, fill=(0, )),\n",
        "        transforms.RandomCrop(28, padding=2),\n",
        "        transforms.ToTensor(),\n",
        "        transforms.Normalize(mean=[mean], std=[std], inplace=False)\n",
        "])\n",
        "test_transforms = transforms.Compose([\n",
        "         transforms.ToTensor(),\n",
        "        transforms.Normalize(mean=[mean], std=[std], inplace=False)  \n",
        "])"
      ],
      "execution_count": 6,
      "outputs": []
    },
    {
      "cell_type": "markdown",
      "metadata": {
        "id": "GlLqgPVhvrqs"
      },
      "source": [
        "### Loading the data\n",
        "\n",
        "We are then going to load the data and apply transformation to each set in the following code cell:"
      ]
    },
    {
      "cell_type": "code",
      "metadata": {
        "id": "L74MJAW2vuAt"
      },
      "source": [
        "train_data = datasets.MNIST('.',\n",
        "                            train= True,\n",
        "                            download=True,\n",
        "                            transform=train_transforms\n",
        "                            )\n",
        "test_data = datasets.MNIST('.', \n",
        "                           train=False,\n",
        "                           download=True,\n",
        "                           transform=test_transforms\n",
        "                           )"
      ],
      "execution_count": 7,
      "outputs": []
    },
    {
      "cell_type": "markdown",
      "metadata": {
        "id": "91QEUGZ2wG8z"
      },
      "source": [
        "### Creating a `validation` set from the train set.\n",
        "We will create a validation set from our train set as usual and then overide the train transforms, and make sure that we use a `deepcopy` when taking example from the train data so that when overriding the transformations we dont overide train transformations as well."
      ]
    },
    {
      "cell_type": "code",
      "metadata": {
        "id": "CkcWvjH9wtUe"
      },
      "source": [
        "n_valid = int(len(train_data) * 0.1)\n",
        "n_train = len(train_data) - n_valid\n",
        "train_data, valid_data = data.random_split(train_data, [n_train, n_valid])"
      ],
      "execution_count": 8,
      "outputs": []
    },
    {
      "cell_type": "markdown",
      "metadata": {
        "id": "O72j3FYIw3r1"
      },
      "source": [
        "### Checking how many examples for each set."
      ]
    },
    {
      "cell_type": "code",
      "metadata": {
        "colab": {
          "base_uri": "https://localhost:8080/"
        },
        "id": "Vk616TKrw7fm",
        "outputId": "bb086ff7-d2af-4887-b75f-457b3e49488b"
      },
      "source": [
        "title = \"DATASETS EXAMPLES\"\n",
        "columns = \"SET\", \"TOTAL\"\n",
        "data_rows = (\"training\", len(train_data)), (\"testing\", len(test_data)), (\"validation\", len(valid_data))\n",
        "tabulate(columns, data_rows, title)"
      ],
      "execution_count": 9,
      "outputs": [
        {
          "output_type": "stream",
          "name": "stdout",
          "text": [
            "+--------------------+\n",
            "| DATASETS EXAMPLES  |\n",
            "+------------+-------+\n",
            "| SET        | TOTAL |\n",
            "+------------+-------+\n",
            "| training   | 54000 |\n",
            "| testing    | 10000 |\n",
            "| validation |  6000 |\n",
            "+------------+-------+\n"
          ]
        }
      ]
    },
    {
      "cell_type": "code",
      "metadata": {
        "id": "ZcIp1YOQw-QR"
      },
      "source": [
        "valid_data = copy.deepcopy(valid_data)\n",
        "valid_data.dataset.transform = test_transforms"
      ],
      "execution_count": 10,
      "outputs": []
    },
    {
      "cell_type": "markdown",
      "metadata": {
        "id": "s-9SWeKVxCam"
      },
      "source": [
        "### Creating iterators\n",
        "Again we are going to use the `DataLoader` to create iterators for "
      ]
    },
    {
      "cell_type": "code",
      "metadata": {
        "id": "bBae4xcLxtGk"
      },
      "source": [
        "BATCH_SIZE = 64\n",
        "train_iterator = data.DataLoader(\n",
        "    train_data, shuffle=True,\n",
        "    batch_size = BATCH_SIZE\n",
        ")\n",
        "test_iterator = data.DataLoader(\n",
        "    test_data,\n",
        "    batch_size = BATCH_SIZE\n",
        ")\n",
        "valid_iterator = data.DataLoader(\n",
        "    valid_data,\n",
        "    batch_size = BATCH_SIZE\n",
        ")"
      ],
      "execution_count": 11,
      "outputs": []
    },
    {
      "cell_type": "markdown",
      "metadata": {
        "id": "L8C6cKGyZ6Fa"
      },
      "source": [
        "\n",
        "\n",
        "### LeNet Model\n",
        "\n",
        "Now we've gone through all of the concepts we can implement our model.\n",
        "<p align=\"center\"><img src=\"https://camo.githubusercontent.com/0f2b54062770fd0f7c65c20be680b73016168e05/68747470733a2f2f6769746875622e636f6d2f62656e747265766574742f7079746f7263682d696d6167652d636c617373696669636174696f6e2f626c6f622f6d61737465722f6173736574732f6c656e6574352e706e673f7261773d31\"/></p>\n",
        "\n",
        "Our actual implementation is going to slightly differ from the actual `LeNet` architecture as it was built to handle `32x32` images, whereas the MNIST dataset consists of `28x28` images. We're also not going to use the Gaussian connections at the end, instead we'll just use a standard linear layer.\n",
        "\n",
        "The first layer in our model is convolutional layer with 6 filters (PyTorch calls them out_channels) and a kernel size of 5. This turns our ``[1, 28, 28]`` image into ``[6, 24, 24]``. \n",
        "```\n",
        "width = width - filter_size(out_channels) + 1\n",
        "height = height - filter_size(out_channels)  + 1\n",
        "```\n",
        "We then downsample our image with a max pooling layer that has a filter size of 2 to get a `[6, 12, 12]` image. This is then passed through an activation function, ReLU in this case, which is applied elementwise and does not change the of the image.\n",
        "\n",
        "Afterwards, we pass the image to the second convolutional layer with 16 filters that are `5x5x6`, a height and width of `5` and a depth of `6` as our previous convolutional layer had 6 filters. This gives us an image size of `[16, 8, 8]` which we then max pool to half the heigth and width to `[16, 4, 4]` and then pass through another `ReLU` function.\n",
        "\n",
        "We then flatten our `[16, 4, 4]` image to `[256]` and pass this through three linear layers. Each of the linear layers are followed by another ReLU, except for the last.\n",
        "\n",
        "We return the results from the final linear layer as well as from the flattened result of the second convolutional layer, which we can plot in lower dimensions later.\n",
        "\n",
        "**Note that you should always apply your activation function after the pooling layer**. You will get the exact same results if you apply the activation function before, however this means you will be applying your activation function to a larger number of inputs, increasing the computation required. Using the activation function after the image has been reduced in size means it will be applied to less inputs and thus use less computation.\n",
        "\n"
      ]
    },
    {
      "cell_type": "code",
      "metadata": {
        "id": "6sMWoPSdZoGc"
      },
      "source": [
        "class LeNet(nn.Module):\n",
        "  def __init__(self, output_dim):\n",
        "    super(LeNet, self).__init__()\n",
        "    self.features = nn.Sequential(\n",
        "        nn.Conv2d(in_channels=1, out_channels=6, kernel_size =5),\n",
        "        nn.MaxPool2d(kernel_size=2),\n",
        "        nn.ReLU(),\n",
        "        nn.Conv2d(in_channels=6, out_channels=16, kernel_size =5),\n",
        "        nn.MaxPool2d(kernel_size=2),\n",
        "        nn.ReLU()\n",
        "    )\n",
        "    self.classifier = nn.Sequential(\n",
        "        nn.Linear(16 * 4 * 4, 120),\n",
        "        nn.ReLU(),\n",
        "        nn.Linear(120, 84),\n",
        "        nn.ReLU(),\n",
        "        nn.Linear(84, output_dim)\n",
        "    )\n",
        "  def forward(self, x):\n",
        "    x = self.features(x) # x = [batch size, 16, 4, 4]\n",
        "    x = x.view(x.shape[0], -1) # x = [batch size, 16*4*4 = 256]\n",
        "    x = self.classifier(x) # x = [batch size, output dim]\n",
        "    return x"
      ],
      "execution_count": 12,
      "outputs": []
    },
    {
      "cell_type": "markdown",
      "metadata": {
        "id": "hiIB134KfQts"
      },
      "source": [
        "### Device\n",
        "\n",
        "Get gpu accelleration if possible."
      ]
    },
    {
      "cell_type": "code",
      "metadata": {
        "colab": {
          "base_uri": "https://localhost:8080/"
        },
        "id": "-Jf0lbbAfSjH",
        "outputId": "57a920e8-7683-46cc-ae79-57327865b945"
      },
      "source": [
        "device = torch.device('cuda' if torch.cuda.is_available() else'cpu')\n",
        "device"
      ],
      "execution_count": 13,
      "outputs": [
        {
          "output_type": "execute_result",
          "data": {
            "text/plain": [
              "device(type='cuda')"
            ]
          },
          "metadata": {},
          "execution_count": 13
        }
      ]
    },
    {
      "cell_type": "code",
      "metadata": {
        "colab": {
          "base_uri": "https://localhost:8080/"
        },
        "id": "ndUdFbbgcN6g",
        "outputId": "59890b13-8b7a-49ac-8618-8d4f2b2bda88"
      },
      "source": [
        "OUTPUT_DIM = 10\n",
        "\n",
        "mnist_lenet = LeNet(OUTPUT_DIM).to(device)\n",
        "mnist_lenet"
      ],
      "execution_count": 14,
      "outputs": [
        {
          "output_type": "execute_result",
          "data": {
            "text/plain": [
              "LeNet(\n",
              "  (features): Sequential(\n",
              "    (0): Conv2d(1, 6, kernel_size=(5, 5), stride=(1, 1))\n",
              "    (1): MaxPool2d(kernel_size=2, stride=2, padding=0, dilation=1, ceil_mode=False)\n",
              "    (2): ReLU()\n",
              "    (3): Conv2d(6, 16, kernel_size=(5, 5), stride=(1, 1))\n",
              "    (4): MaxPool2d(kernel_size=2, stride=2, padding=0, dilation=1, ceil_mode=False)\n",
              "    (5): ReLU()\n",
              "  )\n",
              "  (classifier): Sequential(\n",
              "    (0): Linear(in_features=256, out_features=120, bias=True)\n",
              "    (1): ReLU()\n",
              "    (2): Linear(in_features=120, out_features=84, bias=True)\n",
              "    (3): ReLU()\n",
              "    (4): Linear(in_features=84, out_features=10, bias=True)\n",
              "  )\n",
              ")"
            ]
          },
          "metadata": {},
          "execution_count": 14
        }
      ]
    },
    {
      "cell_type": "markdown",
      "metadata": {
        "id": "NNMoUVS_ft64"
      },
      "source": [
        "### Conting parameters of the model."
      ]
    },
    {
      "cell_type": "code",
      "metadata": {
        "colab": {
          "base_uri": "https://localhost:8080/"
        },
        "id": "LusO1E6Ze5nX",
        "outputId": "72d0b016-28eb-4090-ba3e-153de436f6c9"
      },
      "source": [
        "def count_params(model):\n",
        "  total_params = sum([p.numel() for p in model.parameters()])\n",
        "  trainable_params = sum([p.numel() for p in model.parameters() if p.requires_grad])\n",
        "  tabulate([\"\",\"Parameters\"], \n",
        "           [[\"total parameters\", f'{total_params:,}'],\n",
        "            [\"trainable parameters\", f'{trainable_params:,}']],\n",
        "           \"MODEL PARAMETERS\"\n",
        "           )\n",
        "  \n",
        "count_params(model=mnist_lenet)"
      ],
      "execution_count": 15,
      "outputs": [
        {
          "output_type": "stream",
          "name": "stdout",
          "text": [
            "+-----------------------------------+\n",
            "|          MODEL PARAMETERS         |\n",
            "+----------------------+------------+\n",
            "|                      | Parameters |\n",
            "+----------------------+------------+\n",
            "| total parameters     |     44,426 |\n",
            "| trainable parameters |     44,426 |\n",
            "+----------------------+------------+\n"
          ]
        }
      ]
    },
    {
      "cell_type": "markdown",
      "metadata": {
        "id": "bdAZpnjagAPg"
      },
      "source": [
        "### Optimizer and loss function."
      ]
    },
    {
      "cell_type": "code",
      "metadata": {
        "id": "PJ7JauNSf6qi"
      },
      "source": [
        "optimizer = torch.optim.Adam(mnist_lenet.parameters())\n",
        "criterion = nn.CrossEntropyLoss().to(device)"
      ],
      "execution_count": 16,
      "outputs": []
    },
    {
      "cell_type": "markdown",
      "metadata": {
        "id": "8uCtjzeagT36"
      },
      "source": [
        "### Categorical accuracy function."
      ]
    },
    {
      "cell_type": "code",
      "metadata": {
        "id": "3VqaVMSLgLga"
      },
      "source": [
        "def categorical_accuracy(y_pred, y):\n",
        "  top_pred = y_pred.argmax(1, keepdim=True)\n",
        "  correct = top_pred.eq(y.view_as(top_pred)).sum()\n",
        "  acc = correct.float()/ y.shape[0]\n",
        "  return acc"
      ],
      "execution_count": 17,
      "outputs": []
    },
    {
      "cell_type": "markdown",
      "metadata": {
        "id": "I_AGlyajgwjY"
      },
      "source": [
        "### Training and Evaluation function."
      ]
    },
    {
      "cell_type": "code",
      "metadata": {
        "id": "fOFBs0tEgvzQ"
      },
      "source": [
        "def train(model, iterator, optimizer, criterion, device):\n",
        "  epoch_loss, epoch_acc = 0, 0\n",
        "  model.train()\n",
        "  for (x, y) in iterator:\n",
        "    # features and labels to the device\n",
        "    x = x.to(device)\n",
        "    y = y.to(device)\n",
        "    # Zero the gradients\n",
        "    optimizer.zero_grad()\n",
        "    y_pred = model(x)\n",
        "    # Calculate the loss and accuracy\n",
        "    loss = criterion(y_pred, y)\n",
        "    acc = categorical_accuracy(y_pred, y)\n",
        "    # Backward propagate\n",
        "    loss.backward()\n",
        "    # Update the weights\n",
        "    optimizer.step()\n",
        "\n",
        "    epoch_loss +=loss.item()\n",
        "    epoch_acc += acc.item()\n",
        "\n",
        "  return epoch_loss/len(iterator), epoch_acc/len(iterator)\n",
        "\n",
        "def evaluate(model, iterator, criterion, device):\n",
        "  epoch_loss, epoch_acc = 0, 0\n",
        "  model.eval()\n",
        "  with torch.no_grad():\n",
        "    for (x, y) in iterator:\n",
        "      x = x.to(device)\n",
        "      y = y.to(device)\n",
        "      y_pred = model(x)\n",
        "      loss = criterion(y_pred, y)\n",
        "      acc = categorical_accuracy(y_pred, y)\n",
        "\n",
        "      epoch_loss += loss.item()\n",
        "      epoch_acc += acc.item()\n",
        "  return epoch_loss/len(iterator), epoch_acc/len(iterator)"
      ],
      "execution_count": 18,
      "outputs": []
    },
    {
      "cell_type": "markdown",
      "metadata": {
        "id": "mOT2JZhNhB0Q"
      },
      "source": [
        "### Visualize training"
      ]
    },
    {
      "cell_type": "code",
      "metadata": {
        "id": "C37wq6hXhOfP"
      },
      "source": [
        "def hms_string(sec_elapsed):\n",
        "  h = int(sec_elapsed / (60 * 60))\n",
        "  m = int((sec_elapsed % (60 * 60)) / 60)\n",
        "  s = sec_elapsed % 60\n",
        "  return \"{}:{:>02}:{:>05.2f}\".format(h, m, s)"
      ],
      "execution_count": 19,
      "outputs": []
    },
    {
      "cell_type": "code",
      "metadata": {
        "id": "bO_RyACxhEuT"
      },
      "source": [
        "def tabulate_training(column_names, data, title):\n",
        "  table = PrettyTable(column_names)\n",
        "  table.title= title\n",
        "  table.align[column_names[0]] = 'l'\n",
        "  table.align[column_names[1]] = 'r'\n",
        "  table.align[column_names[2]] = 'r'\n",
        "  table.align[column_names[3]] = 'r'\n",
        "  for row in data:\n",
        "    table.add_row(row)\n",
        "  print(table)"
      ],
      "execution_count": 20,
      "outputs": []
    },
    {
      "cell_type": "code",
      "metadata": {
        "colab": {
          "base_uri": "https://localhost:8080/"
        },
        "id": "_NJVu8gwhRcw",
        "outputId": "ebfd9374-deb1-421a-f526-5417c419c60c"
      },
      "source": [
        "EPOCHS = 20\n",
        "MODEL_NAME = \"mnist-classifier.pt\"\n",
        "best_valid_loss = float('inf')\n",
        "column_names = [\"Set\", \"Loss\", \"Accuracy\", \"ETA (time)\"]\n",
        "\n",
        "for epoch in range(EPOCHS):\n",
        "  start = time.time()\n",
        "\n",
        "  train_loss, train_acc = train(mnist_lenet, train_iterator, optimizer, criterion, device)\n",
        "  valid_loss, valid_acc = evaluate(mnist_lenet, valid_iterator, criterion, device)\n",
        "\n",
        "  if valid_loss < best_valid_loss:\n",
        "    best_valid_loss = valid_loss\n",
        "    torch.save(mnist_lenet.state_dict(), MODEL_NAME)\n",
        "  end = time.time()\n",
        "\n",
        "  data_rows = [\n",
        "      [\"Train\", f'{train_loss:.3f}', f'{train_acc * 100:.2f}%', hms_string(end-start)],\n",
        "      [\"Validation\", f'{valid_loss:.3f}', f'{valid_acc * 100:.2f}%', \"\"]\n",
        "  ]\n",
        "  title = f\"EPOCH {epoch+1:02}/{EPOCHS}\"\n",
        "  tabulate_training(column_names, data_rows, title)"
      ],
      "execution_count": 22,
      "outputs": [
        {
          "output_type": "stream",
          "name": "stdout",
          "text": [
            "+--------------------------------------------+\n",
            "|                EPOCH 01/20                 |\n",
            "+------------+-------+----------+------------+\n",
            "| Set        |  Loss | Accuracy | ETA (time) |\n",
            "+------------+-------+----------+------------+\n",
            "| Train      | 0.177 |   94.47% | 0:00:33.85 |\n",
            "| Validation | 0.076 |   97.70% |            |\n",
            "+------------+-------+----------+------------+\n",
            "+--------------------------------------------+\n",
            "|                EPOCH 02/20                 |\n",
            "+------------+-------+----------+------------+\n",
            "| Set        |  Loss | Accuracy | ETA (time) |\n",
            "+------------+-------+----------+------------+\n",
            "| Train      | 0.104 |   96.74% | 0:00:27.91 |\n",
            "| Validation | 0.066 |   98.14% |            |\n",
            "+------------+-------+----------+------------+\n",
            "+--------------------------------------------+\n",
            "|                EPOCH 03/20                 |\n",
            "+------------+-------+----------+------------+\n",
            "| Set        |  Loss | Accuracy | ETA (time) |\n",
            "+------------+-------+----------+------------+\n",
            "| Train      | 0.084 |   97.37% | 0:00:32.12 |\n",
            "| Validation | 0.055 |   98.32% |            |\n",
            "+------------+-------+----------+------------+\n",
            "+--------------------------------------------+\n",
            "|                EPOCH 04/20                 |\n",
            "+------------+-------+----------+------------+\n",
            "| Set        |  Loss | Accuracy | ETA (time) |\n",
            "+------------+-------+----------+------------+\n",
            "| Train      | 0.070 |   97.85% | 0:00:37.14 |\n",
            "| Validation | 0.055 |   98.31% |            |\n",
            "+------------+-------+----------+------------+\n",
            "+--------------------------------------------+\n",
            "|                EPOCH 05/20                 |\n",
            "+------------+-------+----------+------------+\n",
            "| Set        |  Loss | Accuracy | ETA (time) |\n",
            "+------------+-------+----------+------------+\n",
            "| Train      | 0.063 |   98.00% | 0:00:29.46 |\n",
            "| Validation | 0.038 |   98.84% |            |\n",
            "+------------+-------+----------+------------+\n",
            "+--------------------------------------------+\n",
            "|                EPOCH 06/20                 |\n",
            "+------------+-------+----------+------------+\n",
            "| Set        |  Loss | Accuracy | ETA (time) |\n",
            "+------------+-------+----------+------------+\n",
            "| Train      | 0.057 |   98.20% | 0:00:27.50 |\n",
            "| Validation | 0.046 |   98.67% |            |\n",
            "+------------+-------+----------+------------+\n",
            "+--------------------------------------------+\n",
            "|                EPOCH 07/20                 |\n",
            "+------------+-------+----------+------------+\n",
            "| Set        |  Loss | Accuracy | ETA (time) |\n",
            "+------------+-------+----------+------------+\n",
            "| Train      | 0.052 |   98.40% | 0:00:27.65 |\n",
            "| Validation | 0.041 |   98.84% |            |\n",
            "+------------+-------+----------+------------+\n",
            "+--------------------------------------------+\n",
            "|                EPOCH 08/20                 |\n",
            "+------------+-------+----------+------------+\n",
            "| Set        |  Loss | Accuracy | ETA (time) |\n",
            "+------------+-------+----------+------------+\n",
            "| Train      | 0.050 |   98.40% | 0:00:28.49 |\n",
            "| Validation | 0.042 |   98.74% |            |\n",
            "+------------+-------+----------+------------+\n",
            "+--------------------------------------------+\n",
            "|                EPOCH 09/20                 |\n",
            "+------------+-------+----------+------------+\n",
            "| Set        |  Loss | Accuracy | ETA (time) |\n",
            "+------------+-------+----------+------------+\n",
            "| Train      | 0.045 |   98.62% | 0:00:27.40 |\n",
            "| Validation | 0.048 |   98.50% |            |\n",
            "+------------+-------+----------+------------+\n",
            "+--------------------------------------------+\n",
            "|                EPOCH 10/20                 |\n",
            "+------------+-------+----------+------------+\n",
            "| Set        |  Loss | Accuracy | ETA (time) |\n",
            "+------------+-------+----------+------------+\n",
            "| Train      | 0.044 |   98.62% | 0:00:33.47 |\n",
            "| Validation | 0.046 |   98.72% |            |\n",
            "+------------+-------+----------+------------+\n",
            "+--------------------------------------------+\n",
            "|                EPOCH 11/20                 |\n",
            "+------------+-------+----------+------------+\n",
            "| Set        |  Loss | Accuracy | ETA (time) |\n",
            "+------------+-------+----------+------------+\n",
            "| Train      | 0.042 |   98.69% | 0:00:31.51 |\n",
            "| Validation | 0.043 |   98.82% |            |\n",
            "+------------+-------+----------+------------+\n",
            "+--------------------------------------------+\n",
            "|                EPOCH 12/20                 |\n",
            "+------------+-------+----------+------------+\n",
            "| Set        |  Loss | Accuracy | ETA (time) |\n",
            "+------------+-------+----------+------------+\n",
            "| Train      | 0.040 |   98.78% | 0:00:34.13 |\n",
            "| Validation | 0.034 |   98.94% |            |\n",
            "+------------+-------+----------+------------+\n",
            "+--------------------------------------------+\n",
            "|                EPOCH 13/20                 |\n",
            "+------------+-------+----------+------------+\n",
            "| Set        |  Loss | Accuracy | ETA (time) |\n",
            "+------------+-------+----------+------------+\n",
            "| Train      | 0.037 |   98.78% | 0:00:34.78 |\n",
            "| Validation | 0.037 |   98.87% |            |\n",
            "+------------+-------+----------+------------+\n",
            "+--------------------------------------------+\n",
            "|                EPOCH 14/20                 |\n",
            "+------------+-------+----------+------------+\n",
            "| Set        |  Loss | Accuracy | ETA (time) |\n",
            "+------------+-------+----------+------------+\n",
            "| Train      | 0.038 |   98.81% | 0:00:36.72 |\n",
            "| Validation | 0.044 |   98.62% |            |\n",
            "+------------+-------+----------+------------+\n",
            "+--------------------------------------------+\n",
            "|                EPOCH 15/20                 |\n",
            "+------------+-------+----------+------------+\n",
            "| Set        |  Loss | Accuracy | ETA (time) |\n",
            "+------------+-------+----------+------------+\n",
            "| Train      | 0.035 |   98.92% | 0:00:38.05 |\n",
            "| Validation | 0.037 |   98.95% |            |\n",
            "+------------+-------+----------+------------+\n",
            "+--------------------------------------------+\n",
            "|                EPOCH 16/20                 |\n",
            "+------------+-------+----------+------------+\n",
            "| Set        |  Loss | Accuracy | ETA (time) |\n",
            "+------------+-------+----------+------------+\n",
            "| Train      | 0.036 |   98.89% | 0:00:33.92 |\n",
            "| Validation | 0.034 |   98.99% |            |\n",
            "+------------+-------+----------+------------+\n",
            "+--------------------------------------------+\n",
            "|                EPOCH 17/20                 |\n",
            "+------------+-------+----------+------------+\n",
            "| Set        |  Loss | Accuracy | ETA (time) |\n",
            "+------------+-------+----------+------------+\n",
            "| Train      | 0.032 |   98.99% | 0:00:27.18 |\n",
            "| Validation | 0.027 |   99.18% |            |\n",
            "+------------+-------+----------+------------+\n",
            "+--------------------------------------------+\n",
            "|                EPOCH 18/20                 |\n",
            "+------------+-------+----------+------------+\n",
            "| Set        |  Loss | Accuracy | ETA (time) |\n",
            "+------------+-------+----------+------------+\n",
            "| Train      | 0.032 |   99.00% | 0:00:27.18 |\n",
            "| Validation | 0.045 |   98.57% |            |\n",
            "+------------+-------+----------+------------+\n",
            "+--------------------------------------------+\n",
            "|                EPOCH 19/20                 |\n",
            "+------------+-------+----------+------------+\n",
            "| Set        |  Loss | Accuracy | ETA (time) |\n",
            "+------------+-------+----------+------------+\n",
            "| Train      | 0.034 |   98.91% | 0:00:27.16 |\n",
            "| Validation | 0.031 |   99.19% |            |\n",
            "+------------+-------+----------+------------+\n",
            "+--------------------------------------------+\n",
            "|                EPOCH 20/20                 |\n",
            "+------------+-------+----------+------------+\n",
            "| Set        |  Loss | Accuracy | ETA (time) |\n",
            "+------------+-------+----------+------------+\n",
            "| Train      | 0.030 |   99.08% | 0:00:27.24 |\n",
            "| Validation | 0.033 |   98.95% |            |\n",
            "+------------+-------+----------+------------+\n"
          ]
        }
      ]
    },
    {
      "cell_type": "markdown",
      "source": [
        "### Evaluating the best model."
      ],
      "metadata": {
        "id": "jbR0OGu_vN7M"
      }
    },
    {
      "cell_type": "code",
      "metadata": {
        "colab": {
          "base_uri": "https://localhost:8080/"
        },
        "id": "cmLnQkdthgo5",
        "outputId": "52eeb9e4-8c9a-4b21-8de4-7dedd6eebf47"
      },
      "source": [
        "mnist_lenet.load_state_dict(torch.load(MODEL_NAME))\n",
        "\n",
        "test_loss, test_acc = evaluate(mnist_lenet, test_iterator, criterion, device)\n",
        "title = \"Model Evaluation Summary\"\n",
        "data_rows = [[\"Test\", f'{test_loss:.3f}', f'{test_acc * 100:.2f}%', \"\"]]\n",
        "\n",
        "tabulate_training(column_names, data_rows, title)"
      ],
      "execution_count": 23,
      "outputs": [
        {
          "output_type": "stream",
          "name": "stdout",
          "text": [
            "+--------------------------------------+\n",
            "|       Model Evaluation Summary       |\n",
            "+------+-------+----------+------------+\n",
            "| Set  |  Loss | Accuracy | ETA (time) |\n",
            "+------+-------+----------+------------+\n",
            "| Test | 0.021 |   99.31% |            |\n",
            "+------+-------+----------+------------+\n"
          ]
        }
      ]
    },
    {
      "cell_type": "markdown",
      "metadata": {
        "id": "MzIvbvWtkLE3"
      },
      "source": [
        "### Making predictions and plotting them."
      ]
    },
    {
      "cell_type": "code",
      "metadata": {
        "id": "4paSkDmNkJ7k"
      },
      "source": [
        "def get_predictions(model, iterator, device):\n",
        "    model.eval()\n",
        "    images = []\n",
        "    labels = []\n",
        "    probs = []\n",
        "    with torch.no_grad():\n",
        "        for (x, y) in iterator:\n",
        "            x = x.to(device)\n",
        "            y_pred = model(x)\n",
        "            y_prob = F.softmax(y_pred, dim = -1)\n",
        "            top_pred = y_prob.argmax(1, keepdim = True)\n",
        "            images.append(x.cpu())\n",
        "            labels.append(y.cpu())\n",
        "            probs.append(y_prob.cpu())\n",
        "    images = torch.cat(images, dim = 0)\n",
        "    labels = torch.cat(labels, dim = 0)\n",
        "    probs = torch.cat(probs, dim = 0)\n",
        "    return images, labels, probs"
      ],
      "execution_count": 26,
      "outputs": []
    },
    {
      "cell_type": "code",
      "metadata": {
        "id": "BWKmqIEDkuUL"
      },
      "source": [
        "images, labels, probs = get_predictions(mnist_lenet, test_iterator, device)"
      ],
      "execution_count": 27,
      "outputs": []
    },
    {
      "cell_type": "code",
      "metadata": {
        "colab": {
          "base_uri": "https://localhost:8080/"
        },
        "id": "PxIbtS1fnGKc",
        "outputId": "137e0ec3-277b-47b4-fc6d-3d78f70ff98d"
      },
      "source": [
        "pred_labels = torch.argmax(probs, 1)\n",
        "pred_labels"
      ],
      "execution_count": 28,
      "outputs": [
        {
          "output_type": "execute_result",
          "data": {
            "text/plain": [
              "tensor([7, 2, 1,  ..., 4, 5, 6])"
            ]
          },
          "metadata": {},
          "execution_count": 28
        }
      ]
    },
    {
      "cell_type": "code",
      "metadata": {
        "id": "EdlgRrlYkSK-"
      },
      "source": [
        "def plot_predictions_images(images, labels_true,\n",
        "                            labels_pred, cols=5, rows = 3):\n",
        "    fig = plt.figure()\n",
        "    fig.set_size_inches(cols * 2, rows * 2)\n",
        "    for i, (image, label_true, label_pred) in enumerate(zip(images, labels_true, labels_pred)):\n",
        "        plt.subplot(rows, cols, i + 1)\n",
        "        plt.axis('off')\n",
        "        plt.imshow(image[0, :, :], cmap=\"gray\")\n",
        "  \n",
        "        plt.title(label_pred.item(), color ='g' if label_true == label_pred else 'r', fontsize=16 )"
      ],
      "execution_count": 29,
      "outputs": []
    },
    {
      "cell_type": "code",
      "metadata": {
        "colab": {
          "base_uri": "https://localhost:8080/",
          "height": 593
        },
        "id": "M68qP6jLkSHn",
        "outputId": "31c58c9e-bbab-4dc2-ba3e-0b86516f1555"
      },
      "source": [
        "plot_predictions_images(images[:25], labels[:25], pred_labels[:25], rows=5)"
      ],
      "execution_count": 30,
      "outputs": [
        {
          "output_type": "display_data",
          "data": {
            "image/png": "[encoded data removed]",
            "text/plain": [
              "<Figure size 720x720 with 25 Axes>"
            ]
          },
          "metadata": {
            "needs_background": "light"
          }
        }
      ]
    },
    {
      "cell_type": "markdown",
      "metadata": {
        "id": "rAl_ktjMj5-D"
      },
      "source": [
        "### PLot confusion matrix."
      ]
    },
    {
      "cell_type": "code",
      "metadata": {
        "colab": {
          "base_uri": "https://localhost:8080/",
          "height": 580
        },
        "id": "V-bM-eyQj1Qv",
        "outputId": "309bb723-dc14-4b2f-ab0e-1ff0c1114b74"
      },
      "source": [
        "def plot_confusion_matrix(labels, pred_labels):\n",
        "    fig = plt.figure(figsize = (10, 10));\n",
        "    ax = fig.add_subplot(1, 1, 1);\n",
        "    cm = confusion_matrix(labels, pred_labels);\n",
        "    cm = ConfusionMatrixDisplay(cm, display_labels = range(10));\n",
        "    cm.plot(values_format = 'd', cmap = 'Blues', ax = ax)\n",
        "\n",
        "plot_confusion_matrix(labels, pred_labels)"
      ],
      "execution_count": 31,
      "outputs": [
        {
          "output_type": "display_data",
          "data": {
            "image/png": "[encoded data removed]",
            "text/plain": [
              "<Figure size 720x720 with 2 Axes>"
            ]
          },
          "metadata": {
            "needs_background": "light"
          }
        }
      ]
    },
    {
      "cell_type": "markdown",
      "source": [
        "### Model inference\n",
        "\n",
        "In this section of the notebook we are then going to create a function that predicts what digit is on the image, given an image of a digit. The function will return the following dictionary like object as a prediction response:\n",
        "\n",
        "```json\n",
        "{\"all\": [{\"class_name\": \"zero\",\n",
        "   \"label\": 0,\n",
        "   \"probability\": 5.248521262046779e-08},\n",
        "  {\"class_name\": \"one\", \"label\": 1, \"probability\": 1.2809765337351564e-07},\n",
        "  {\"class_name\": \"two\", \"label\": 2, \"probability\": 4.821778475161409e-06},\n",
        "  {\"class_name\": \"three\", \"label\": 3, \"probability\": 1.6562404425712884e-07},\n",
        "  {\"class_name\": \"four\", \"label\": 4, \"probability\": 1.0630603355821222e-05},\n",
        "  {\"class_name\": \"five\", \"label\": 5, \"probability\": 5.849686885994743e-07},\n",
        "  {\"class_name\": \"six\", \"label\": 6, \"probability\": 7.213602631894744e-11},\n",
        "  {\"class_name\": \"seven\", \"label\": 7, \"probability\": 0.9998502731323242},\n",
        "  {\"class_name\": \"eight\", \"label\": 8, \"probability\": 3.5614900184555154e-07},\n",
        "  {\"class_name\": \"nine\", \"label\": 9, \"probability\": 0.00013307905464898795}],\n",
        " \"prediction\": {\"class_name\": \"seven\",\n",
        "  \"label\": 7,\n",
        "  \"probability\": 0.9998502731323242}}\n",
        "```"
      ],
      "metadata": {
        "id": "s25ysYjyvrJ6"
      }
    },
    {
      "cell_type": "code",
      "source": [
        "classes = [\"zero\", \"one\", \"two\", \"three\", \"four\", \"five\", \"six\", \"seven\", \"eight\", \"nine\"]"
      ],
      "metadata": {
        "id": "B-glvfdjwjz6"
      },
      "execution_count": 56,
      "outputs": []
    },
    {
      "cell_type": "code",
      "source": [
        "def predict_digit(model, device, image):\n",
        "  model.eval()\n",
        "  with torch.no_grad():\n",
        "    image = image.view(-1, 1, 28, 28).to(device)\n",
        "    predictions = F.softmax(model(image), dim=1)\n",
        "    top_pred = int(predictions.argmax(1).item())\n",
        "    predictions = predictions.squeeze().cpu().numpy()\n",
        "\n",
        "    preds = [{\"label\": i, \"class_name\": classes[i], \"probability\":  float(prob) } for i, prob in enumerate(predictions)]\n",
        "    return{\n",
        "        \"all\":preds,\n",
        "        \"prediction\": \n",
        "         {\"label\": top_pred, \"class_name\": classes[top_pred], \"probability\":  float(predictions[top_pred]) }\n",
        "    }"
      ],
      "metadata": {
        "id": "HcjHAWlvwcmR"
      },
      "execution_count": 59,
      "outputs": []
    },
    {
      "cell_type": "code",
      "source": [
        "predict_digit(mnist_lenet, device, images[0])"
      ],
      "metadata": {
        "colab": {
          "base_uri": "https://localhost:8080/"
        },
        "id": "xW84U7-i1bOT",
        "outputId": "b82ba2fc-b93f-4d1f-bf12-97a9d869f75d"
      },
      "execution_count": 60,
      "outputs": [
        {
          "output_type": "execute_result",
          "data": {
            "text/plain": [
              "{'all': [{'class_name': 'zero',\n",
              "   'label': 0,\n",
              "   'probability': 5.248521262046779e-08},\n",
              "  {'class_name': 'one', 'label': 1, 'probability': 1.2809765337351564e-07},\n",
              "  {'class_name': 'two', 'label': 2, 'probability': 4.821778475161409e-06},\n",
              "  {'class_name': 'three', 'label': 3, 'probability': 1.6562404425712884e-07},\n",
              "  {'class_name': 'four', 'label': 4, 'probability': 1.0630603355821222e-05},\n",
              "  {'class_name': 'five', 'label': 5, 'probability': 5.849686885994743e-07},\n",
              "  {'class_name': 'six', 'label': 6, 'probability': 7.213602631894744e-11},\n",
              "  {'class_name': 'seven', 'label': 7, 'probability': 0.9998502731323242},\n",
              "  {'class_name': 'eight', 'label': 8, 'probability': 3.5614900184555154e-07},\n",
              "  {'class_name': 'nine', 'label': 9, 'probability': 0.00013307905464898795}],\n",
              " 'prediction': {'class_name': 'seven',\n",
              "  'label': 7,\n",
              "  'probability': 0.9998502731323242}}"
            ]
          },
          "metadata": {},
          "execution_count": 60
        }
      ]
    },
    {
      "cell_type": "markdown",
      "source": [
        "### Loading the image from local file.\n",
        "\n"
      ],
      "metadata": {
        "id": "3kTH4DiQ2C-r"
      }
    },
    {
      "cell_type": "code",
      "source": [
        "from PIL import Image"
      ],
      "metadata": {
        "id": "ZKya1vIW2GwF"
      },
      "execution_count": 61,
      "outputs": []
    },
    {
      "cell_type": "code",
      "source": [
        "def preprocess_img(img):\n",
        "  \"\"\"\n",
        "  takes in a pillow image and pre process it\n",
        "  \"\"\"\n",
        "  preproces_1 =  nn.Sequential(\n",
        "   transforms.Resize([28,28]),\n",
        "   transforms.Grayscale(1)\n",
        "  )\n",
        "  preprocess_2 =  nn.Sequential(\n",
        "    transforms.Normalize(mean=[mean], std=[std], inplace=False)\n",
        "  )\n",
        "  img = preprocess_2(transforms.ToTensor()(preproces_1(img)))\n",
        "  return img"
      ],
      "metadata": {
        "id": "LjxN6spW2GEE"
      },
      "execution_count": 62,
      "outputs": []
    },
    {
      "cell_type": "code",
      "source": [
        "pil_image = Image.open(\"path_to_image\")\n",
        "img = preprocess_img(pil_image)\n",
        "img"
      ],
      "metadata": {
        "id": "QOzfPhU92ecW"
      },
      "execution_count": null,
      "outputs": []
    },
    {
      "cell_type": "code",
      "source": [
        "predict_digit(mnist_lenet, device, img)"
      ],
      "metadata": {
        "id": "qeoTj9zn375-"
      },
      "execution_count": null,
      "outputs": []
    },
    {
      "cell_type": "markdown",
      "source": [
        "### Downloading the best model\n",
        "\n",
        "In the following code cell we are going to download and save the model as a static file."
      ],
      "metadata": {
        "id": "B2TDKA49wFB-"
      }
    },
    {
      "cell_type": "code",
      "metadata": {
        "id": "nVqJmNs6phMm",
        "colab": {
          "base_uri": "https://localhost:8080/",
          "height": 17
        },
        "outputId": "c906275e-d663-43f4-84f7-cfab566756ac"
      },
      "source": [
        "from google.colab import files\n",
        "\n",
        "files.download(MODEL_NAME)"
      ],
      "execution_count": 33,
      "outputs": [
        {
          "output_type": "display_data",
          "data": {
            "application/javascript": [
              "\n",
              "    async function download(id, filename, size) {\n",
              "      if (!google.colab.kernel.accessAllowed) {\n",
              "        return;\n",
              "      }\n",
              "      const div = document.createElement('div');\n",
              "      const label = document.createElement('label');\n",
              "      label.textContent = `Downloading \"${filename}\": `;\n",
              "      div.appendChild(label);\n",
              "      const progress = document.createElement('progress');\n",
              "      progress.max = size;\n",
              "      div.appendChild(progress);\n",
              "      document.body.appendChild(div);\n",
              "\n",
              "      const buffers = [];\n",
              "      let downloaded = 0;\n",
              "\n",
              "      const channel = await google.colab.kernel.comms.open(id);\n",
              "      // Send a message to notify the kernel that we're ready.\n",
              "      channel.send({})\n",
              "\n",
              "      for await (const message of channel.messages) {\n",
              "        // Send a message to notify the kernel that we're ready.\n",
              "        channel.send({})\n",
              "        if (message.buffers) {\n",
              "          for (const buffer of message.buffers) {\n",
              "            buffers.push(buffer);\n",
              "            downloaded += buffer.byteLength;\n",
              "            progress.value = downloaded;\n",
              "          }\n",
              "        }\n",
              "      }\n",
              "      const blob = new Blob(buffers, {type: 'application/binary'});\n",
              "      const a = document.createElement('a');\n",
              "      a.href = window.URL.createObjectURL(blob);\n",
              "      a.download = filename;\n",
              "      div.appendChild(a);\n",
              "      a.click();\n",
              "      div.remove();\n",
              "    }\n",
              "  "
            ],
            "text/plain": [
              "<IPython.core.display.Javascript object>"
            ]
          },
          "metadata": {}
        },
        {
          "output_type": "display_data",
          "data": {
            "application/javascript": [
              "download(\"download_e77d1dce-19fe-467c-92de-f2fc1453d24b\", \"mnist-classifier.pt\", 180935)"
            ],
            "text/plain": [
              "<IPython.core.display.Javascript object>"
            ]
          },
          "metadata": {}
        }
      ]
    }
  ]
}